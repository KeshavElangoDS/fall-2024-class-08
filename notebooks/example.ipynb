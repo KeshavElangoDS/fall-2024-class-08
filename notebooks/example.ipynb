{
 "cells": [
  {
   "cell_type": "markdown",
   "metadata": {},
   "source": [
    "# Example Notebook"
   ]
  },
  {
   "cell_type": "code",
   "execution_count": 1,
   "metadata": {},
   "outputs": [],
   "source": [
    "%load_ext autoreload\n",
    "%autoreload 2\n",
    "%matplotlib widget\n",
    "\n",
    "import os\n",
    "import json\n",
    "import matplotlib.pyplot as plt\n",
    "import numpy as np\n",
    "\n",
    "\n",
    "plt.rcParams[\"font.size\"] = 16\n",
    "plt.rcParams[\"font.family\"] = \"serif\"\n",
    "plt.rcParams[\"mathtext.fontset\"] = \"dejavuserif\""
   ]
  },
  {
   "cell_type": "code",
   "execution_count": 2,
   "metadata": {},
   "outputs": [],
   "source": [
    "kaggle_json_filepath = '/workspaces/fall-2024-class-08/kaggle/kaggle.json'\n",
    "\n",
    "def read_kaggle_json(filepath):\n",
    "    filepath = os.path.expanduser(filepath)\n",
    "    username = None\n",
    "    token = None\n",
    "    with open(filepath, 'r') as file:\n",
    "        config = json.load(file)\n",
    "        username = config.get('username')\n",
    "        token = config.get('key')\n",
    "    return username, token\n",
    "\n",
    "kaggle_username, kaggle_api_token = read_kaggle_json(kaggle_json_filepath)\n",
    "\n",
    "if kaggle_username and kaggle_api_token:\n",
    "    os.environ['KAGGLE_USERNAME'] = kaggle_username\n",
    "    os.environ['KAGGLE_KEY'] = kaggle_api_token"
   ]
  },
  {
   "cell_type": "code",
   "execution_count": null,
   "metadata": {},
   "outputs": [],
   "source": [
    "import kaggle\n",
    "\n",
    "download_location = '/workspaces/fall-2024-class-08/downloads'\n",
    "\n",
    "kaggle.api.authenticate()\n",
    "kaggle.api.dataset_download_files('andrewmvd/sp-500-stocks', path=download_location, unzip=True)"
   ]
  },
  {
   "cell_type": "code",
   "execution_count": null,
   "metadata": {},
   "outputs": [],
   "source": []
  }
 ],
 "metadata": {
  "kernelspec": {
   "display_name": ".venv",
   "language": "python",
   "name": "python3"
  },
  "language_info": {
   "codemirror_mode": {
    "name": "ipython",
    "version": 3
   },
   "file_extension": ".py",
   "mimetype": "text/x-python",
   "name": "python",
   "nbconvert_exporter": "python",
   "pygments_lexer": "ipython3",
   "version": "3.12.3"
  }
 },
 "nbformat": 4,
 "nbformat_minor": 2
}
